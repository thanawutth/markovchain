{
 "cells": [
  {
   "cell_type": "code",
   "execution_count": 14,
   "metadata": {},
   "outputs": [],
   "source": [
    "import numpy as np\n",
    "import scipy.linalg\n",
    "import matplotlib.pyplot as plt\n",
    "from numpy import random\n",
    "\n",
    "# ===== example ============\n",
    "#mu, sigma = 12, 3.0 # mean and standard deviation\n",
    "#s = np.random.normal(mu, sigma, 1000)\n",
    "\n",
    "#count, bins, ignored = plt.hist(s, 100, density=True)\n",
    "#plt.plot(bins, 1/(sigma * np.sqrt(2 * np.pi)) *\n",
    "#               np.exp( - (bins - mu)**2 / (2 * sigma**2) ),\n",
    "#         linewidth=2, color='r')\n",
    "#plt.show()\n",
    "#A = ['pooh', 'rabbit', 'piglet', 'Christopher']\n",
    "#print(np.random.choice(A, 5, p=[0.5, 0.1, 0.1, 0.3]))\n",
    "# ==========================\n",
    "class MarkovChain:\n",
    "    def __init__(self):\n",
    "        \n",
    "        self.state = {\n",
    "                        0 : \"Cleary\",\n",
    "                        1 : \"Cloudy\",\n",
    "                        2 : \"Rainy\"\n",
    "                     }\n",
    "        self.A = np.array( [\n",
    "                [0.50, 0.30, 0.20], \n",
    "                [0.10, 0.45, 0.45], \n",
    "                [0.45, 0.10, 0.45]\n",
    "                        ] )\n",
    "    def Random_Walk(self):\n",
    "        n = 15\n",
    "        start_state = 0\n",
    "        curr_state = start_state\n",
    "        print(state[curr_state], \"--->\", end=\" \")\n",
    "        while n-1:\n",
    "            curr_state = np.random.choice([0, 1, 2], p=A[curr_state])\n",
    "            print(state[curr_state], \"--->\", end=\" \")\n",
    "            n-=1\n",
    "        print(\"stop\")\n",
    "    def Monte_Carlo(self):\n",
    "        # Approach -1 : Monte Carlo \n",
    "        steps = 10**6\n",
    "        start_state = 0\n",
    "        curr_state = start_state\n",
    "        pi = np.array([0, 0, 0])\n",
    "        pi[start_state] = 1\n",
    "        i = 0\n",
    "        while i<steps:\n",
    "            curr_state = np.random.choice([0,1,2], p=A[curr_state])\n",
    "            pi[curr_state]+=1\n",
    "            i +=1\n",
    "        print(\"π = \", pi/steps)\n",
    "        return pi/steps\n",
    "    def Matrix_Multiplication(self):\n",
    "        # Approach - 2 :  Repeated Matrix Multiplication\n",
    "        steps = 10**3\n",
    "        A_n = A\n",
    "        i=0\n",
    "        while i<steps:\n",
    "            A_n =  np.matmul(A_n, A)\n",
    "            i+=1\n",
    "\n",
    "        print(\"A^n = \\n\", A_n, \"\\n\")\n",
    "        print(\"π = \", A_n[0])\n",
    "        return A_n[0]\n",
    "    def Eigen_Vectors(self):\n",
    "        # Approach - 3 : Finding Left Eigen Vectors\n",
    "        values, left = scipy.linalg.eig(A, right = False, left = True)\n",
    "        # print(\"left eigen vectors = \\n\", left, \"\\n\")\n",
    "        # print(\"eigen values = \\n\", values)\n",
    "        pi = left[:,0]\n",
    "        pi_normalized = [(x/np.sum(pi)).real for x in pi]\n",
    "        return pi_normalized\n",
    "\n",
    "    def find_prob(self,seq, A, pi):\n",
    "        start_state = seq[0]\n",
    "        prob = pi[start_state]\n",
    "        prev_state, curr_state = start_state, start_state\n",
    "        for i in range(1, len(seq)):\n",
    "            curr_state = seq[i]\n",
    "            prob *= A[prev_state][curr_state]\n",
    "            prev_state = curr_state\n",
    "        return prob\n",
    "\n",
    "    \n",
    "np.random.seed(0)\n",
    "n_frmr, n_day, sigma_day = 10, 30, 5\n",
    "# frmr = random.exponential(scale=n_day/2, size=(n_frmr, 30))\n",
    "frmr = np.random.normal(n_day/2, sigma_day, n_frmr)\n",
    "#count, bins, ignored = plt.hist(frmr, 100, density=True)\n",
    "#plt.show()\n",
    "v_frmr, v_sigma = 12, 3.0 # mean and standard deviation\n",
    "vl_frmr = np.random.normal(v_frmr, v_sigma, n_frmr)\n",
    "#count, bins, ignored = plt.hist(vl_frmr, 100, density=True)\n",
    "#plt.show()\n",
    "\n",
    "m_frmr, m_sigma = 25, 2.0 # mean and standard deviation\n",
    "mi_frmr = np.random.normal(m_frmr, m_sigma, n_frmr)\n",
    "\n",
    "frmr_day_vl = [[0.0 for col in range(n_day)] for row in range(n_frmr)]\n",
    "frmr_day_mi = [[0.0 for col in range(n_day)] for row in range(n_frmr)]"
   ]
  },
  {
   "cell_type": "code",
   "execution_count": 35,
   "metadata": {},
   "outputs": [
    {
     "data": {
      "image/png": "[encoded data removed]",
      "text/plain": [
       "<Figure size 432x288 with 1 Axes>"
      ]
     },
     "metadata": {
      "needs_background": "light"
     },
     "output_type": "display_data"
    }
   ],
   "source": [
    "#assign rice volume for each farmer in day of month\n",
    "for row in range(n_frmr):\n",
    "    frmr_day_vl[row][int(frmr[row])] = round(vl_frmr[row],2)\n",
    "    frmr_day_mi[row][int(frmr[row])] = round(mi_frmr[row],2)\n",
    "\n",
    "#print(frmr_day_mi)\n",
    "#print(frmr_day_vl)\n",
    "arr_frmr_day_vl = np.array(frmr_day_vl)\n",
    "sum_alldays = arr_frmr_day_vl.sum(axis=0)\n",
    "#print(sum_alldays)\n",
    "\n",
    "#print(np.arange(sum_alldays.size))\n",
    "plt.bar(np.arange(sum_alldays.size), sum_alldays)\n",
    "plt.show()\n",
    "#plt.xticks(np.range(sum_alldays), np.range(sum_alldays))"
   ]
  },
  {
   "cell_type": "code",
   "execution_count": 16,
   "metadata": {},
   "outputs": [
    {
     "name": "stdout",
     "output_type": "stream",
     "text": [
      "0.024520909090909072\n"
     ]
    }
   ],
   "source": [
    "A = np.array( [\n",
    "                [0.50, 0.30, 0.20], \n",
    "                [0.10, 0.45, 0.45], \n",
    "                [0.45, 0.10, 0.45]\n",
    "                        ] )\n",
    "m  = MarkovChain()\n",
    "pi_normalized = m.Eigen_Vectors()\n",
    "prob = m.find_prob([1, 2, 2, 0], A, pi_normalized)\n",
    "print(prob)\n",
    "#print(m.find_prob([1, 2, 2, 0], A, pi_normalized))"
   ]
  }
 ],
 "metadata": {
  "kernelspec": {
   "display_name": "Python 3",
   "language": "python",
   "name": "python3"
  },
  "language_info": {
   "codemirror_mode": {
    "name": "ipython",
    "version": 3
   },
   "file_extension": ".py",
   "mimetype": "text/x-python",
   "name": "python",
   "nbconvert_exporter": "python",
   "pygments_lexer": "ipython3",
   "version": "3.8.6"
  }
 },
 "nbformat": 4,
 "nbformat_minor": 4
}
