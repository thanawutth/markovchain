{
 "cells": [
  {
   "cell_type": "code",
   "execution_count": 13,
   "metadata": {},
   "outputs": [
    {
     "name": "stdout",
     "output_type": "stream",
     "text": [
      "Unsort : [6240 6600 1141 ... 5478 3568 2173]\n",
      "Sorted : [   0    0    1 ... 9998 9999 9999]\n"
     ]
    }
   ],
   "source": [
    "\n",
    "# importing the module\n",
    "import timeit\n",
    "import numpy as np\n",
    "  \n",
    "# sample function that returns square\n",
    "# of the value passed\n",
    "def print_square(x):\n",
    "    return (x**2)\n",
    "  \n",
    "def find_linear(A,x): # A = array , x = key to search\n",
    "    pos = -1\n",
    "    i = 0\n",
    "    while (A[i]!=x and i < len(A)-1):\n",
    "        i = i + 1\n",
    "    if (A[i] == x):\n",
    "        pos = i\n",
    "    return pos\n",
    "\n",
    "def find_binary(A,x): # A = array , x = key to search\n",
    "    pos = -1\n",
    "    L = 0\n",
    "    U = len(A) - 1 \n",
    "    M = int((L + U) / 2)\n",
    "    while(A[M] != x and L<U ):\n",
    "        if x > A[M] :\n",
    "            L = M + 1\n",
    "        else:\n",
    "            U = M - 1\n",
    "        \n",
    "        M = int((L + U) / 2)\n",
    "    if (A[M] == x):\n",
    "        pos = M\n",
    "    return pos\n",
    "\n",
    "def find_binary_rec(A,x,L,U):\n",
    "    M = int((L+U)/2)\n",
    "    if (A[M] == x) :\n",
    "        return M\n",
    "    else:\n",
    "        if (L>U):\n",
    "            return -1\n",
    "        else:\n",
    "            if (x > A[M] ):\n",
    "                return find_binary_rec(A,x,M+1,U)\n",
    "            else:\n",
    "                return find_binary_rec(A,x,L,M-1)\n",
    "\n",
    "\n",
    "N = 10000\n",
    "\n",
    "Arr = np.random.randint(low=0, high=N, size=(N,))\n",
    "\n",
    "print(\"Unsort : \" + str(Arr))\n",
    "\n",
    "Arr.sort()\n",
    "print(\"Sorted : \" + str(Arr))\n",
    "\n"
   ]
  },
  {
   "cell_type": "code",
   "execution_count": 14,
   "metadata": {},
   "outputs": [
    {
     "name": "stdout",
     "output_type": "stream",
     "text": [
      "Elapsed time of linear : [0.02905719999989742, 0.03239480000002004, 0.03657399999997324, 0.03462259999992057, 0.034464400000047135]\n",
      "Elapsed time of binary : [0.00019110000005184702, 0.0001523000000815955, 0.0001519999999572974, 0.00015169999994668615, 0.00015289999998913117]\n",
      "Elapsed time of recursive binary : [0.00017239999999674183, 0.0001624000000219894, 0.00016189999996640836, 0.0001617000000351254, 0.00016259999995327235]\n"
     ]
    }
   ],
   "source": [
    "key = np.random.randint(low=0, high=N)\n",
    "\n",
    "t_linear = timeit.repeat(lambda: find_linear(Arr,key), number=10, repeat=5)\n",
    "\n",
    "t_binary = timeit.repeat(lambda: find_binary(Arr,key), number=10, repeat=5)\n",
    "\n",
    "t_binary_rec = timeit.repeat(lambda: find_binary_rec(Arr,key,0,len(Arr)-1), number=10, repeat=5)\n",
    "\n",
    "\n",
    "\n",
    "print(\"Elapsed time of linear : \" + str(t_linear))\n",
    "print(\"Elapsed time of binary : \" + str(t_binary))\n",
    "print(\"Elapsed time of recursive binary : \" + str(t_binary_rec))"
   ]
  }
 ],
 "metadata": {
  "kernelspec": {
   "display_name": "Python 3",
   "language": "python",
   "name": "python3"
  },
  "language_info": {
   "codemirror_mode": {
    "name": "ipython",
    "version": 3
   },
   "file_extension": ".py",
   "mimetype": "text/x-python",
   "name": "python",
   "nbconvert_exporter": "python",
   "pygments_lexer": "ipython3",
   "version": "3.8.6"
  }
 },
 "nbformat": 4,
 "nbformat_minor": 4
}
